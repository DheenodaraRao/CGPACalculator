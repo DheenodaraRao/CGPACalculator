{
 "cells": [
  {
   "cell_type": "code",
   "execution_count": 4,
   "metadata": {},
   "outputs": [],
   "source": [
    "#importing pandas\n",
    "import pandas as pd"
   ]
  },
  {
   "cell_type": "code",
   "execution_count": 53,
   "metadata": {},
   "outputs": [
    {
     "name": "stdout",
     "output_type": "stream",
     "text": [
      "            Subject  Credit Grade\n",
      "0   Public Speaking       3    A-\n",
      "1      English Prof       3    A-\n",
      "2         Prob Stat       3    A+\n",
      "3               C++       4     A\n",
      "4          Database       3    B+\n",
      "5     Basic Writing       3    A-\n",
      "6              OOAD       4    A+\n",
      "7        Soft & Req       3     A\n",
      "8             TCPIP       3    A+\n",
      "9        Comp Ethic       3     A\n",
      "10        Oral Comp       3     B\n",
      "11              Web       4    A-\n",
      "12      Soft Design       4     A\n",
      "13     Soft Testing       4    A-\n",
      "14            Cloud       3     A\n",
      "15      Data Mining       3     A\n"
     ]
    }
   ],
   "source": [
    "#format\n",
    "#['Subject', 3, 'A-'], \n",
    "#3 is credit hours\n",
    "\n",
    "data = [\n",
    "    ['Public Speaking', 3, 'A-'],\n",
    "    ['English Prof', 3, 'A-'],\n",
    "    ['Prob Stat', 3, 'A+'],\n",
    "    ['C++', 4, 'A'],\n",
    "    ['Database', 3, 'B+'],\n",
    "    ['Basic Writing', 3, 'A-'],\n",
    "    ['OOAD', 4, 'A+'],\n",
    "    ['Soft & Req', 3, 'A'],\n",
    "    ['TCPIP', 3, 'A+'],\n",
    "    ['Comp Ethic', 3, 'A'],\n",
    "    ['Oral Comp', 3, 'B'],\n",
    "    ['Web', 4, 'A-'],\n",
    "    ['Soft Design', 4, 'A'],\n",
    "    ['Soft Testing', 4, 'A-'],\n",
    "    ['Cloud', 3, 'A'],\n",
    "    ['Data Mining', 3, 'A']\n",
    "]\n",
    "\n",
    "columnName = ['Subject', 'Credit', 'Grade']\n",
    "df = pd.DataFrame(data, columns=columnName)\n",
    "print(df)"
   ]
  },
  {
   "cell_type": "code",
   "execution_count": 54,
   "metadata": {},
   "outputs": [
    {
     "name": "stdout",
     "output_type": "stream",
     "text": [
      "{'A+': 4.0, 'A': 4.0, 'A-': 3.67, 'B+': 3.33, 'B': 3.0, 'B-': 2.67, 'C+': 2.33, 'C': 2.0, 'F': 0.0}\n"
     ]
    }
   ],
   "source": [
    "#translating grade to cgpa\n",
    "gpa = {\n",
    "    'A+': 4.0,\n",
    "    'A': 4.0,\n",
    "    'A-': 3.67,\n",
    "    'B+': 3.33,\n",
    "    'B': 3.0,\n",
    "    'B-': 2.67,\n",
    "    'C+': 2.33,\n",
    "    'C': 2.00,\n",
    "    'F': 0.0\n",
    "}\n",
    "\n",
    "print(gpa)"
   ]
  },
  {
   "cell_type": "code",
   "execution_count": 55,
   "metadata": {},
   "outputs": [
    {
     "data": {
      "text/html": [
       "<div>\n",
       "<style scoped>\n",
       "    .dataframe tbody tr th:only-of-type {\n",
       "        vertical-align: middle;\n",
       "    }\n",
       "\n",
       "    .dataframe tbody tr th {\n",
       "        vertical-align: top;\n",
       "    }\n",
       "\n",
       "    .dataframe thead th {\n",
       "        text-align: right;\n",
       "    }\n",
       "</style>\n",
       "<table border=\"1\" class=\"dataframe\">\n",
       "  <thead>\n",
       "    <tr style=\"text-align: right;\">\n",
       "      <th></th>\n",
       "      <th>Credit</th>\n",
       "      <th>Grade</th>\n",
       "    </tr>\n",
       "  </thead>\n",
       "  <tbody>\n",
       "    <tr>\n",
       "      <th>0</th>\n",
       "      <td>3</td>\n",
       "      <td>A-</td>\n",
       "    </tr>\n",
       "    <tr>\n",
       "      <th>1</th>\n",
       "      <td>3</td>\n",
       "      <td>A-</td>\n",
       "    </tr>\n",
       "    <tr>\n",
       "      <th>2</th>\n",
       "      <td>3</td>\n",
       "      <td>A+</td>\n",
       "    </tr>\n",
       "    <tr>\n",
       "      <th>3</th>\n",
       "      <td>4</td>\n",
       "      <td>A</td>\n",
       "    </tr>\n",
       "    <tr>\n",
       "      <th>4</th>\n",
       "      <td>3</td>\n",
       "      <td>B+</td>\n",
       "    </tr>\n",
       "    <tr>\n",
       "      <th>5</th>\n",
       "      <td>3</td>\n",
       "      <td>A-</td>\n",
       "    </tr>\n",
       "    <tr>\n",
       "      <th>6</th>\n",
       "      <td>4</td>\n",
       "      <td>A+</td>\n",
       "    </tr>\n",
       "    <tr>\n",
       "      <th>7</th>\n",
       "      <td>3</td>\n",
       "      <td>A</td>\n",
       "    </tr>\n",
       "    <tr>\n",
       "      <th>8</th>\n",
       "      <td>3</td>\n",
       "      <td>A+</td>\n",
       "    </tr>\n",
       "    <tr>\n",
       "      <th>9</th>\n",
       "      <td>3</td>\n",
       "      <td>A</td>\n",
       "    </tr>\n",
       "    <tr>\n",
       "      <th>10</th>\n",
       "      <td>3</td>\n",
       "      <td>B</td>\n",
       "    </tr>\n",
       "    <tr>\n",
       "      <th>11</th>\n",
       "      <td>4</td>\n",
       "      <td>A-</td>\n",
       "    </tr>\n",
       "    <tr>\n",
       "      <th>12</th>\n",
       "      <td>4</td>\n",
       "      <td>A</td>\n",
       "    </tr>\n",
       "    <tr>\n",
       "      <th>13</th>\n",
       "      <td>4</td>\n",
       "      <td>A-</td>\n",
       "    </tr>\n",
       "    <tr>\n",
       "      <th>14</th>\n",
       "      <td>3</td>\n",
       "      <td>A</td>\n",
       "    </tr>\n",
       "    <tr>\n",
       "      <th>15</th>\n",
       "      <td>3</td>\n",
       "      <td>A</td>\n",
       "    </tr>\n",
       "  </tbody>\n",
       "</table>\n",
       "</div>"
      ],
      "text/plain": [
       "    Credit Grade\n",
       "0        3    A-\n",
       "1        3    A-\n",
       "2        3    A+\n",
       "3        4     A\n",
       "4        3    B+\n",
       "5        3    A-\n",
       "6        4    A+\n",
       "7        3     A\n",
       "8        3    A+\n",
       "9        3     A\n",
       "10       3     B\n",
       "11       4    A-\n",
       "12       4     A\n",
       "13       4    A-\n",
       "14       3     A\n",
       "15       3     A"
      ]
     },
     "execution_count": 55,
     "metadata": {},
     "output_type": "execute_result"
    }
   ],
   "source": [
    "df.loc[:,'Credit':'Grade']"
   ]
  },
  {
   "cell_type": "code",
   "execution_count": 56,
   "metadata": {},
   "outputs": [
    {
     "name": "stdout",
     "output_type": "stream",
     "text": [
      "[[3 'A-']\n",
      " [3 'A-']\n",
      " [3 'A+']\n",
      " [4 'A']\n",
      " [3 'B+']\n",
      " [3 'A-']\n",
      " [4 'A+']\n",
      " [3 'A']\n",
      " [3 'A+']\n",
      " [3 'A']\n",
      " [3 'B']\n",
      " [4 'A-']\n",
      " [4 'A']\n",
      " [4 'A-']\n",
      " [3 'A']\n",
      " [3 'A']]\n"
     ]
    }
   ],
   "source": [
    "import numpy as np\n",
    "a = np.array(df.loc[:,'Credit':'Grade'])\n",
    "print(a)"
   ]
  },
  {
   "cell_type": "code",
   "execution_count": 57,
   "metadata": {},
   "outputs": [
    {
     "name": "stdout",
     "output_type": "stream",
     "text": [
      "Passed Grades\n",
      "['A-' 'A-' 'A+' 'A' 'B+' 'A-' 'A+' 'A' 'A+' 'A' 'B' 'A-' 'A' 'A-' 'A' 'A']\n",
      "\n",
      "Converted Grades\n",
      "[3.67, 3.67, 4.0, 4.0, 3.33, 3.67, 4.0, 4.0, 4.0, 4.0, 3.0, 3.67, 4.0, 3.67, 4.0, 4.0]\n"
     ]
    }
   ],
   "source": [
    "grades = a[:,1]\n",
    "convertedGrades = []\n",
    "print('Passed Grades')\n",
    "print(grades)\n",
    "\n",
    "for grade in grades:\n",
    "    theGrade = gpa[grade]\n",
    "    convertedGrades.append(theGrade)\n",
    "\n",
    "print('\\nConverted Grades')\n",
    "print(convertedGrades)"
   ]
  },
  {
   "cell_type": "code",
   "execution_count": 58,
   "metadata": {},
   "outputs": [
    {
     "name": "stdout",
     "output_type": "stream",
     "text": [
      "Total GPA:\t\t201.38\n",
      "Total Credit Hours:\t53\n",
      "CGPA:\t\t3.799622641509434\n"
     ]
    }
   ],
   "source": [
    "work1 = np.vstack((np.array(a[:,0]),np.array(convertedGrades)))\n",
    "sumGPA = np.sum(work1[0,:] * work1[1,:])\n",
    "sumCredit = np.sum(work1[0,:])\n",
    "cgpa = sumGPA/sumCredit\n",
    "\n",
    "print(\"Total GPA:\\t\\t\" + str(sumGPA))\n",
    "print(\"Total Credit Hours:\\t\" + str(sumCredit))\n",
    "print(\"CGPA:\\t\\t\" + str(cgpa))"
   ]
  }
 ],
 "metadata": {
  "kernelspec": {
   "display_name": "Python 3",
   "language": "python",
   "name": "python3"
  },
  "language_info": {
   "codemirror_mode": {
    "name": "ipython",
    "version": 3
   },
   "file_extension": ".py",
   "mimetype": "text/x-python",
   "name": "python",
   "nbconvert_exporter": "python",
   "pygments_lexer": "ipython3",
   "version": "3.6.5"
  }
 },
 "nbformat": 4,
 "nbformat_minor": 2
}
